{
  "metadata": {
    "language_info": {
      "codemirror_mode": {
        "name": "ipython",
        "version": 3
      },
      "file_extension": ".py",
      "mimetype": "text/x-python",
      "name": "python",
      "nbconvert_exporter": "python",
      "pygments_lexer": "ipython3",
      "version": "3.8.8-final"
    },
    "orig_nbformat": 2,
    "kernelspec": {
      "name": "python388jvsc74a57bd01baa965d5efe3ac65b79dfc60c0d706280b1da80fedb7760faf2759126c4f253",
      "display_name": "Python 3.8.8 64-bit"
    },
    "metadata": {
      "interpreter": {
        "hash": "1baa965d5efe3ac65b79dfc60c0d706280b1da80fedb7760faf2759126c4f253"
      }
    },
    "colab": {
      "provenance": [],
      "gpuType": "T4"
    },
    "accelerator": "GPU"
  },
  "nbformat": 4,
  "nbformat_minor": 0,
  "cells": [
    {
      "cell_type": "code",
      "execution_count": 1,
      "metadata": {
        "colab": {
          "base_uri": "https://localhost:8080/"
        },
        "id": "4PZ1xTycyEmE",
        "outputId": "57012b7e-7dbc-402e-a983-a554c75db0f7"
      },
      "outputs": [
        {
          "output_type": "stream",
          "name": "stdout",
          "text": [
            "Packages Imported Successfully!\n"
          ]
        }
      ],
      "source": [
        "import numpy as np\n",
        "import pandas as pd\n",
        "import matplotlib.pyplot as plt\n",
        "\n",
        "from sklearn.tree import DecisionTreeClassifier\n",
        "from sklearn.metrics import classification_report,accuracy_score\n",
        "\n",
        "from keras.models import Sequential\n",
        "from keras.layers import Dense\n",
        "\n",
        "print(\"Packages Imported Successfully!\")"
      ]
    },
    {
      "cell_type": "code",
      "execution_count": 2,
      "metadata": {
        "id": "iRPzhIvbyEmJ"
      },
      "outputs": [],
      "source": [
        "trainData = pd.read_csv(\"/content/Training.csv\")\n",
        "trainData = trainData.drop(\"Unnamed: 133\", axis = 1)"
      ]
    },
    {
      "cell_type": "code",
      "execution_count": 3,
      "metadata": {
        "colab": {
          "base_uri": "https://localhost:8080/"
        },
        "id": "EzJLxL10yEmK",
        "outputId": "cf8ba755-8f15-4864-f472-d2ad94c37a8a"
      },
      "outputs": [
        {
          "output_type": "execute_result",
          "data": {
            "text/plain": [
              "Fungal infection                           120\n",
              "Hepatitis C                                120\n",
              "Hepatitis E                                120\n",
              "Alcoholic hepatitis                        120\n",
              "Tuberculosis                               120\n",
              "Common Cold                                120\n",
              "Pneumonia                                  120\n",
              "Dimorphic hemmorhoids(piles)               120\n",
              "Heart attack                               120\n",
              "Varicose veins                             120\n",
              "Hypothyroidism                             120\n",
              "Hyperthyroidism                            120\n",
              "Hypoglycemia                               120\n",
              "Osteoarthristis                            120\n",
              "Arthritis                                  120\n",
              "(vertigo) Paroymsal  Positional Vertigo    120\n",
              "Acne                                       120\n",
              "Urinary tract infection                    120\n",
              "Psoriasis                                  120\n",
              "Hepatitis D                                120\n",
              "Hepatitis B                                120\n",
              "Allergy                                    120\n",
              "hepatitis A                                120\n",
              "GERD                                       120\n",
              "Chronic cholestasis                        120\n",
              "Drug Reaction                              120\n",
              "Peptic ulcer diseae                        120\n",
              "AIDS                                       120\n",
              "Diabetes                                   120\n",
              "Gastroenteritis                            120\n",
              "Bronchial Asthma                           120\n",
              "Hypertension                               120\n",
              "Migraine                                   120\n",
              "Cervical spondylosis                       120\n",
              "Paralysis (brain hemorrhage)               120\n",
              "Jaundice                                   120\n",
              "Malaria                                    120\n",
              "Chicken pox                                120\n",
              "Dengue                                     120\n",
              "Typhoid                                    120\n",
              "Impetigo                                   120\n",
              "Name: prognosis, dtype: int64"
            ]
          },
          "metadata": {},
          "execution_count": 3
        }
      ],
      "source": [
        "trainData[\"prognosis\"].value_counts()"
      ]
    },
    {
      "cell_type": "code",
      "execution_count": 4,
      "metadata": {
        "id": "w1TzyazTyEmK"
      },
      "outputs": [],
      "source": [
        "testData = pd.read_csv(\"/content/Testing.csv\")"
      ]
    },
    {
      "cell_type": "code",
      "execution_count": 5,
      "metadata": {
        "id": "u7tbpXoUyEmL"
      },
      "outputs": [],
      "source": [
        "xTrain = trainData.drop(\"prognosis\", axis = 1)\n",
        "yTrain = trainData[\"prognosis\"]\n",
        "yTrain = np.array(yTrain).reshape(yTrain.shape[0], 1)"
      ]
    },
    {
      "cell_type": "code",
      "execution_count": 6,
      "metadata": {
        "id": "u12Bs1C2yEmL"
      },
      "outputs": [],
      "source": [
        "xTest = testData.drop(\"prognosis\", axis = 1)\n",
        "yTest = testData[\"prognosis\"]\n",
        "yTest = np.array(yTest).reshape(yTest.shape[0], 1)"
      ]
    },
    {
      "cell_type": "code",
      "execution_count": 7,
      "metadata": {
        "colab": {
          "base_uri": "https://localhost:8080/"
        },
        "id": "2w-JHFlVyEmL",
        "outputId": "2291a234-4e60-41a7-dc23-2de37fb2048b"
      },
      "outputs": [
        {
          "output_type": "stream",
          "name": "stdout",
          "text": [
            "xTrain: (4920, 132)\n",
            "yTrain: (4920, 1)\n",
            "xTest: (42, 132)\n",
            "yTest: (42, 1)\n",
            "\n"
          ]
        }
      ],
      "source": [
        "print(\"xTrain: {}\\nyTrain: {}\\nxTest: {}\\nyTest: {}\\n\".format(xTrain.shape, yTrain.shape, xTest.shape, yTest.shape))"
      ]
    },
    {
      "cell_type": "code",
      "execution_count": 8,
      "metadata": {
        "id": "nFhSudvnyEmM"
      },
      "outputs": [],
      "source": [
        "DecisionTree = DecisionTreeClassifier()\n",
        "DecisionTree.fit(xTrain, yTrain)\n",
        "predictions = DecisionTree.predict(xTest)\n",
        "accuracy = DecisionTree.score(xTest, yTest)"
      ]
    },
    {
      "cell_type": "code",
      "execution_count": 9,
      "metadata": {
        "colab": {
          "base_uri": "https://localhost:8080/"
        },
        "id": "MMol-Z4HyEmN",
        "outputId": "ab69771e-e065-4694-907c-9ab77910103e"
      },
      "outputs": [
        {
          "output_type": "stream",
          "name": "stdout",
          "text": [
            "Pred: Fungal infection\n",
            "Real: Fungal infection\n",
            "\n",
            "\n",
            "Pred: Allergy\n",
            "Real: Allergy\n",
            "\n",
            "\n",
            "Pred: GERD\n",
            "Real: GERD\n",
            "\n",
            "\n",
            "Pred: Chronic cholestasis\n",
            "Real: Chronic cholestasis\n",
            "\n",
            "\n",
            "Pred: Drug Reaction\n",
            "Real: Drug Reaction\n",
            "\n",
            "\n",
            "Pred: Peptic ulcer diseae\n",
            "Real: Peptic ulcer diseae\n",
            "\n",
            "\n",
            "Pred: AIDS\n",
            "Real: AIDS\n",
            "\n",
            "\n",
            "Pred: Diabetes \n",
            "Real: Diabetes \n",
            "\n",
            "\n",
            "Pred: Gastroenteritis\n",
            "Real: Gastroenteritis\n",
            "\n",
            "\n",
            "Pred: Bronchial Asthma\n",
            "Real: Bronchial Asthma\n",
            "\n",
            "\n",
            "Pred: Hypertension \n",
            "Real: Hypertension \n",
            "\n",
            "\n",
            "Pred: Migraine\n",
            "Real: Migraine\n",
            "\n",
            "\n",
            "Pred: Cervical spondylosis\n",
            "Real: Cervical spondylosis\n",
            "\n",
            "\n",
            "Pred: Paralysis (brain hemorrhage)\n",
            "Real: Paralysis (brain hemorrhage)\n",
            "\n",
            "\n",
            "Pred: Jaundice\n",
            "Real: Jaundice\n",
            "\n",
            "\n",
            "Pred: Malaria\n",
            "Real: Malaria\n",
            "\n",
            "\n",
            "Pred: Chicken pox\n",
            "Real: Chicken pox\n",
            "\n",
            "\n",
            "Pred: Dengue\n",
            "Real: Dengue\n",
            "\n",
            "\n",
            "Pred: Typhoid\n",
            "Real: Typhoid\n",
            "\n",
            "\n",
            "Pred: hepatitis A\n",
            "Real: hepatitis A\n",
            "\n",
            "\n",
            "Pred: Hepatitis B\n",
            "Real: Hepatitis B\n",
            "\n",
            "\n",
            "Pred: Hepatitis C\n",
            "Real: Hepatitis C\n",
            "\n",
            "\n",
            "Pred: Hepatitis D\n",
            "Real: Hepatitis D\n",
            "\n",
            "\n",
            "Pred: Hepatitis E\n",
            "Real: Hepatitis E\n",
            "\n",
            "\n",
            "Pred: Alcoholic hepatitis\n",
            "Real: Alcoholic hepatitis\n",
            "\n",
            "\n",
            "Pred: Tuberculosis\n",
            "Real: Tuberculosis\n",
            "\n",
            "\n",
            "Pred: Common Cold\n",
            "Real: Common Cold\n",
            "\n",
            "\n",
            "Pred: Pneumonia\n",
            "Real: Pneumonia\n",
            "\n",
            "\n",
            "Pred: Dimorphic hemmorhoids(piles)\n",
            "Real: Dimorphic hemmorhoids(piles)\n",
            "\n",
            "\n",
            "Pred: Heart attack\n",
            "Real: Heart attack\n",
            "\n",
            "\n",
            "Pred: Varicose veins\n",
            "Real: Varicose veins\n",
            "\n",
            "\n",
            "Pred: Hypothyroidism\n",
            "Real: Hypothyroidism\n",
            "\n",
            "\n",
            "Pred: Hyperthyroidism\n",
            "Real: Hyperthyroidism\n",
            "\n",
            "\n",
            "Pred: Hypoglycemia\n",
            "Real: Hypoglycemia\n",
            "\n",
            "\n",
            "Pred: Osteoarthristis\n",
            "Real: Osteoarthristis\n",
            "\n",
            "\n",
            "Pred: Arthritis\n",
            "Real: Arthritis\n",
            "\n",
            "\n",
            "Pred: (vertigo) Paroymsal  Positional Vertigo\n",
            "Real: (vertigo) Paroymsal  Positional Vertigo\n",
            "\n",
            "\n",
            "Pred: Acne\n",
            "Real: Acne\n",
            "\n",
            "\n",
            "Pred: Urinary tract infection\n",
            "Real: Urinary tract infection\n",
            "\n",
            "\n",
            "Pred: Psoriasis\n",
            "Real: Psoriasis\n",
            "\n",
            "\n",
            "Pred: Impetigo\n",
            "Real: Impetigo\n",
            "\n",
            "\n",
            "Pred: Chicken pox\n",
            "Real: Fungal infection\n",
            "\n",
            "\n"
          ]
        }
      ],
      "source": [
        "for i in range(len(predictions)):\n",
        "    print(\"Pred: {}\\nReal: {}\\n\\n\".format(predictions[i], yTest[i][0]))"
      ]
    },
    {
      "cell_type": "code",
      "execution_count": 10,
      "metadata": {
        "colab": {
          "base_uri": "https://localhost:8080/"
        },
        "id": "6xKkwTkryEmO",
        "outputId": "a1830ef1-4e8a-4209-a204-1f987167d792"
      },
      "outputs": [
        {
          "output_type": "stream",
          "name": "stdout",
          "text": [
            "Accuracy: 97.62%\n"
          ]
        }
      ],
      "source": [
        "print(\"Accuracy: {:.2f}%\".format(accuracy*100))"
      ]
    },
    {
      "cell_type": "code",
      "execution_count": 11,
      "metadata": {
        "colab": {
          "base_uri": "https://localhost:8080/"
        },
        "id": "jPiKq4OfyEmP",
        "outputId": "e81d285c-47b4-4296-c9f4-fa382d634408"
      },
      "outputs": [
        {
          "output_type": "stream",
          "name": "stdout",
          "text": [
            "                                         precision    recall  f1-score   support\n",
            "\n",
            "(vertigo) Paroymsal  Positional Vertigo       1.00      1.00      1.00         1\n",
            "                                   AIDS       1.00      1.00      1.00         1\n",
            "                                   Acne       1.00      1.00      1.00         1\n",
            "                    Alcoholic hepatitis       1.00      1.00      1.00         1\n",
            "                                Allergy       1.00      1.00      1.00         1\n",
            "                              Arthritis       1.00      1.00      1.00         1\n",
            "                       Bronchial Asthma       1.00      1.00      1.00         1\n",
            "                   Cervical spondylosis       1.00      1.00      1.00         1\n",
            "                            Chicken pox       0.50      1.00      0.67         1\n",
            "                    Chronic cholestasis       1.00      1.00      1.00         1\n",
            "                            Common Cold       1.00      1.00      1.00         1\n",
            "                                 Dengue       1.00      1.00      1.00         1\n",
            "                              Diabetes        1.00      1.00      1.00         1\n",
            "           Dimorphic hemmorhoids(piles)       1.00      1.00      1.00         1\n",
            "                          Drug Reaction       1.00      1.00      1.00         1\n",
            "                       Fungal infection       1.00      0.50      0.67         2\n",
            "                                   GERD       1.00      1.00      1.00         1\n",
            "                        Gastroenteritis       1.00      1.00      1.00         1\n",
            "                           Heart attack       1.00      1.00      1.00         1\n",
            "                            Hepatitis B       1.00      1.00      1.00         1\n",
            "                            Hepatitis C       1.00      1.00      1.00         1\n",
            "                            Hepatitis D       1.00      1.00      1.00         1\n",
            "                            Hepatitis E       1.00      1.00      1.00         1\n",
            "                          Hypertension        1.00      1.00      1.00         1\n",
            "                        Hyperthyroidism       1.00      1.00      1.00         1\n",
            "                           Hypoglycemia       1.00      1.00      1.00         1\n",
            "                         Hypothyroidism       1.00      1.00      1.00         1\n",
            "                               Impetigo       1.00      1.00      1.00         1\n",
            "                               Jaundice       1.00      1.00      1.00         1\n",
            "                                Malaria       1.00      1.00      1.00         1\n",
            "                               Migraine       1.00      1.00      1.00         1\n",
            "                        Osteoarthristis       1.00      1.00      1.00         1\n",
            "           Paralysis (brain hemorrhage)       1.00      1.00      1.00         1\n",
            "                    Peptic ulcer diseae       1.00      1.00      1.00         1\n",
            "                              Pneumonia       1.00      1.00      1.00         1\n",
            "                              Psoriasis       1.00      1.00      1.00         1\n",
            "                           Tuberculosis       1.00      1.00      1.00         1\n",
            "                                Typhoid       1.00      1.00      1.00         1\n",
            "                Urinary tract infection       1.00      1.00      1.00         1\n",
            "                         Varicose veins       1.00      1.00      1.00         1\n",
            "                            hepatitis A       1.00      1.00      1.00         1\n",
            "\n",
            "                               accuracy                           0.98        42\n",
            "                              macro avg       0.99      0.99      0.98        42\n",
            "                           weighted avg       0.99      0.98      0.98        42\n",
            "\n"
          ]
        }
      ],
      "source": [
        "print(classification_report(yTest, predictions))"
      ]
    },
    {
      "cell_type": "code",
      "execution_count": 12,
      "metadata": {
        "colab": {
          "base_uri": "https://localhost:8080/"
        },
        "id": "HfSStdfcyEmQ",
        "outputId": "911f03c6-35f5-4d23-c835-fd947a31391d"
      },
      "outputs": [
        {
          "output_type": "stream",
          "name": "stdout",
          "text": [
            "                                Importance\n",
            "high_fever                        4.552171\n",
            "yellowing_of_eyes                 3.646366\n",
            "receiving_unsterile_injections    2.500000\n",
            "slurred_speech                    2.500000\n",
            "brittle_nails                     2.500000\n",
            "...                                    ...\n",
            "runny_nose                        0.000000\n",
            "sinus_pressure                    0.000000\n",
            "redness_of_eyes                   0.000000\n",
            "blurred_and_distorted_vision      0.000000\n",
            "yellow_crust_ooze                 0.000000\n",
            "\n",
            "[132 rows x 1 columns]\n"
          ]
        }
      ],
      "source": [
        "featuresImportant = pd.DataFrame(DecisionTree.feature_importances_ * 100, xTrain.columns, columns = [\"Importance\"])\n",
        "featuresImportant = featuresImportant.sort_values(by = \"Importance\", ascending = False)\n",
        "print(featuresImportant)"
      ]
    },
    {
      "cell_type": "code",
      "execution_count": 13,
      "metadata": {
        "colab": {
          "base_uri": "https://localhost:8080/"
        },
        "id": "kNqXftFdyEmR",
        "outputId": "d7f909ea-0e95-4f9b-90b1-42c818982b75"
      },
      "outputs": [
        {
          "output_type": "execute_result",
          "data": {
            "text/plain": [
              "array(['pus_filled_pimples', 'small_dents_in_nails', 'loss_of_smell',\n",
              "       'palpitations', 'bladder_discomfort', 'foul_smell_of urine',\n",
              "       'prominent_veins_on_calf', 'blood_in_sputum',\n",
              "       'red_sore_around_nose', 'polyuria', 'internal_itching',\n",
              "       'toxic_look_(typhos)', 'watering_from_eyes',\n",
              "       'history_of_alcohol_consumption', 'depression',\n",
              "       'distention_of_abdomen', 'irritability', 'coma',\n",
              "       'receiving_blood_transfusion', 'belly_pain', 'visual_disturbances',\n",
              "       'inflammatory_nails', 'bruising', 'spinning_movements',\n",
              "       'sunken_eyes', 'acute_liver_failure', 'yellow_urine', 'mild_fever',\n",
              "       'abdominal_pain', 'back_pain', 'loss_of_appetite', 'nausea',\n",
              "       'sweating', 'breathlessness', 'irregular_sugar_level',\n",
              "       'swelling_of_stomach', 'lethargy', 'restlessness', 'mood_swings',\n",
              "       'cold_hands_and_feets', 'anxiety', 'weight_gain', 'muscle_wasting',\n",
              "       'joint_pain', 'continuous_sneezing', 'fluid_overload',\n",
              "       'swelled_lymph_nodes', 'swelling_joints', 'neck_pain',\n",
              "       'stiff_neck', 'knee_pain', 'drying_and_tingling_lips',\n",
              "       'extra_marital_contacts', 'swollen_extremeties',\n",
              "       'enlarged_thyroid', 'puffy_face_and_eyes', 'swollen_blood_vessels',\n",
              "       'cramps', 'irritation_in_anus', 'malaise', 'bloody_stool',\n",
              "       'pain_in_anal_region', 'fast_heart_rate', 'weakness_in_limbs',\n",
              "       'congestion', 'runny_nose', 'sinus_pressure', 'redness_of_eyes',\n",
              "       'blurred_and_distorted_vision', 'yellow_crust_ooze'], dtype=object)"
            ]
          },
          "metadata": {},
          "execution_count": 13
        }
      ],
      "source": [
        "featuresZeroes = np.array(featuresImportant[featuresImportant[\"Importance\"] == 0.000000].index)\n",
        "featuresZeroes"
      ]
    },
    {
      "cell_type": "code",
      "execution_count": 14,
      "metadata": {
        "id": "NsiVu9GhyEmS"
      },
      "outputs": [],
      "source": [
        "trainData = trainData.drop(columns = featuresZeroes, axis = 1)\n",
        "testData = testData.drop(columns = featuresZeroes, axis = 1)"
      ]
    },
    {
      "cell_type": "code",
      "execution_count": 15,
      "metadata": {
        "id": "n-kHd3PwyEmS"
      },
      "outputs": [],
      "source": [
        "xTrain = trainData.drop(\"prognosis\", axis = 1)\n",
        "yTrain = trainData[\"prognosis\"]\n",
        "xTest = testData.drop(\"prognosis\", axis = 1)\n",
        "yTest = testData[\"prognosis\"]"
      ]
    },
    {
      "cell_type": "code",
      "execution_count": 16,
      "metadata": {
        "colab": {
          "base_uri": "https://localhost:8080/"
        },
        "id": "ZryipZytyEmT",
        "outputId": "2b8161ec-b64c-49d9-c449-6b8a8ebd8851"
      },
      "outputs": [
        {
          "output_type": "stream",
          "name": "stdout",
          "text": [
            "xTrain: (4920, 62)\n",
            "yTrain: (4920,)\n",
            "xTest: (42, 62)\n",
            "yTest: (42,)\n",
            "\n"
          ]
        }
      ],
      "source": [
        "print(\"xTrain: {}\\nyTrain: {}\\nxTest: {}\\nyTest: {}\\n\".format(xTrain.shape, yTrain.shape, xTest.shape, yTest.shape))"
      ]
    },
    {
      "cell_type": "code",
      "execution_count": 17,
      "metadata": {
        "colab": {
          "base_uri": "https://localhost:8080/"
        },
        "id": "NFTqAgfcyEmT",
        "outputId": "0fccb9c5-f34d-4035-ca5d-cc851db509e4"
      },
      "outputs": [
        {
          "output_type": "execute_result",
          "data": {
            "text/plain": [
              "(42, 41)"
            ]
          },
          "metadata": {},
          "execution_count": 17
        }
      ],
      "source": [
        "yTrainEncoded = pd.get_dummies(yTrain)\n",
        "yTestEncoded = pd.get_dummies(yTest)\n",
        "yTestEncoded.shape"
      ]
    },
    {
      "cell_type": "code",
      "execution_count": 18,
      "metadata": {
        "colab": {
          "base_uri": "https://localhost:8080/"
        },
        "id": "6SwdZdymyEmU",
        "outputId": "a27a1f0f-fe92-4727-ad50-589fc3500bf8"
      },
      "outputs": [
        {
          "output_type": "stream",
          "name": "stdout",
          "text": [
            "Model: \"sequential\"\n",
            "_________________________________________________________________\n",
            " Layer (type)                Output Shape              Param #   \n",
            "=================================================================\n",
            " dense (Dense)               (None, 32)                2016      \n",
            "                                                                 \n",
            " dense_1 (Dense)             (None, 16)                528       \n",
            "                                                                 \n",
            " dense_2 (Dense)             (None, 41)                697       \n",
            "                                                                 \n",
            "=================================================================\n",
            "Total params: 3241 (12.66 KB)\n",
            "Trainable params: 3241 (12.66 KB)\n",
            "Non-trainable params: 0 (0.00 Byte)\n",
            "_________________________________________________________________\n"
          ]
        }
      ],
      "source": [
        "model = Sequential()\n",
        "model.add(Dense(32, input_dim = xTrain.shape[1], activation = \"relu\"))\n",
        "model.add(Dense(16, activation = \"relu\"))\n",
        "model.add(Dense(yTrainEncoded.shape[1], activation = \"softmax\"))\n",
        "model.summary()"
      ]
    },
    {
      "cell_type": "code",
      "execution_count": 19,
      "metadata": {
        "id": "imfRGUWbyEmU"
      },
      "outputs": [],
      "source": [
        "model.compile(optimizer = \"Adam\", loss = \"binary_crossentropy\", metrics = [\"accuracy\"])"
      ]
    },
    {
      "cell_type": "code",
      "execution_count": 20,
      "metadata": {
        "colab": {
          "base_uri": "https://localhost:8080/"
        },
        "id": "KIhta5RFyEmV",
        "outputId": "d0817054-328b-487a-9014-f7de1a097da8"
      },
      "outputs": [
        {
          "output_type": "stream",
          "name": "stdout",
          "text": [
            "Epoch 1/30\n",
            "29/29 [==============================] - 3s 11ms/step - loss: 0.6736 - accuracy: 0.0424 - val_loss: 0.6364 - val_accuracy: 0.0488\n",
            "Epoch 2/30\n",
            "29/29 [==============================] - 0s 6ms/step - loss: 0.5775 - accuracy: 0.0325 - val_loss: 0.4771 - val_accuracy: 0.0244\n",
            "Epoch 3/30\n",
            "29/29 [==============================] - 0s 6ms/step - loss: 0.3626 - accuracy: 0.0244 - val_loss: 0.2279 - val_accuracy: 0.0244\n",
            "Epoch 4/30\n",
            "29/29 [==============================] - 0s 5ms/step - loss: 0.1796 - accuracy: 0.0244 - val_loss: 0.1403 - val_accuracy: 0.0244\n",
            "Epoch 5/30\n",
            "29/29 [==============================] - 0s 5ms/step - loss: 0.1347 - accuracy: 0.0244 - val_loss: 0.1260 - val_accuracy: 0.0244\n",
            "Epoch 6/30\n",
            "29/29 [==============================] - 0s 5ms/step - loss: 0.1238 - accuracy: 0.0244 - val_loss: 0.1181 - val_accuracy: 0.0244\n",
            "Epoch 7/30\n",
            "29/29 [==============================] - 0s 6ms/step - loss: 0.1171 - accuracy: 0.0441 - val_loss: 0.1121 - val_accuracy: 0.0488\n",
            "Epoch 8/30\n",
            "29/29 [==============================] - 0s 5ms/step - loss: 0.1119 - accuracy: 0.0894 - val_loss: 0.1072 - val_accuracy: 0.1463\n",
            "Epoch 9/30\n",
            "29/29 [==============================] - 0s 6ms/step - loss: 0.1073 - accuracy: 0.1931 - val_loss: 0.1026 - val_accuracy: 0.2195\n",
            "Epoch 10/30\n",
            "29/29 [==============================] - 0s 5ms/step - loss: 0.1028 - accuracy: 0.2738 - val_loss: 0.0978 - val_accuracy: 0.3171\n",
            "Epoch 11/30\n",
            "29/29 [==============================] - 0s 6ms/step - loss: 0.0981 - accuracy: 0.3688 - val_loss: 0.0927 - val_accuracy: 0.4390\n",
            "Epoch 12/30\n",
            "29/29 [==============================] - 0s 5ms/step - loss: 0.0930 - accuracy: 0.4570 - val_loss: 0.0872 - val_accuracy: 0.5366\n",
            "Epoch 13/30\n",
            "29/29 [==============================] - 0s 5ms/step - loss: 0.0877 - accuracy: 0.5871 - val_loss: 0.0815 - val_accuracy: 0.6829\n",
            "Epoch 14/30\n",
            "29/29 [==============================] - 0s 6ms/step - loss: 0.0822 - accuracy: 0.6408 - val_loss: 0.0757 - val_accuracy: 0.7317\n",
            "Epoch 15/30\n",
            "29/29 [==============================] - 0s 6ms/step - loss: 0.0766 - accuracy: 0.7253 - val_loss: 0.0699 - val_accuracy: 0.8049\n",
            "Epoch 16/30\n",
            "29/29 [==============================] - 0s 5ms/step - loss: 0.0710 - accuracy: 0.8208 - val_loss: 0.0642 - val_accuracy: 0.8780\n",
            "Epoch 17/30\n",
            "29/29 [==============================] - 0s 5ms/step - loss: 0.0655 - accuracy: 0.8740 - val_loss: 0.0585 - val_accuracy: 0.9268\n",
            "Epoch 18/30\n",
            "29/29 [==============================] - 0s 6ms/step - loss: 0.0601 - accuracy: 0.8955 - val_loss: 0.0531 - val_accuracy: 0.9512\n",
            "Epoch 19/30\n",
            "29/29 [==============================] - 0s 5ms/step - loss: 0.0548 - accuracy: 0.9193 - val_loss: 0.0478 - val_accuracy: 0.9512\n",
            "Epoch 20/30\n",
            "29/29 [==============================] - 0s 6ms/step - loss: 0.0497 - accuracy: 0.9257 - val_loss: 0.0428 - val_accuracy: 0.9512\n",
            "Epoch 21/30\n",
            "29/29 [==============================] - 0s 5ms/step - loss: 0.0449 - accuracy: 0.9329 - val_loss: 0.0381 - val_accuracy: 0.9512\n",
            "Epoch 22/30\n",
            "29/29 [==============================] - 0s 5ms/step - loss: 0.0404 - accuracy: 0.9428 - val_loss: 0.0337 - val_accuracy: 0.9512\n",
            "Epoch 23/30\n",
            "29/29 [==============================] - 0s 5ms/step - loss: 0.0363 - accuracy: 0.9544 - val_loss: 0.0297 - val_accuracy: 0.9756\n",
            "Epoch 24/30\n",
            "29/29 [==============================] - 0s 5ms/step - loss: 0.0325 - accuracy: 0.9657 - val_loss: 0.0261 - val_accuracy: 0.9756\n",
            "Epoch 25/30\n",
            "29/29 [==============================] - 0s 5ms/step - loss: 0.0290 - accuracy: 0.9675 - val_loss: 0.0229 - val_accuracy: 0.9756\n",
            "Epoch 26/30\n",
            "29/29 [==============================] - 0s 6ms/step - loss: 0.0258 - accuracy: 0.9669 - val_loss: 0.0199 - val_accuracy: 0.9756\n",
            "Epoch 27/30\n",
            "29/29 [==============================] - 0s 6ms/step - loss: 0.0230 - accuracy: 0.9774 - val_loss: 0.0174 - val_accuracy: 0.9756\n",
            "Epoch 28/30\n",
            "29/29 [==============================] - 0s 5ms/step - loss: 0.0205 - accuracy: 0.9875 - val_loss: 0.0151 - val_accuracy: 1.0000\n",
            "Epoch 29/30\n",
            "29/29 [==============================] - 0s 6ms/step - loss: 0.0182 - accuracy: 0.9913 - val_loss: 0.0132 - val_accuracy: 1.0000\n",
            "Epoch 30/30\n",
            "29/29 [==============================] - 0s 5ms/step - loss: 0.0163 - accuracy: 0.9913 - val_loss: 0.0115 - val_accuracy: 1.0000\n"
          ]
        }
      ],
      "source": [
        "history = model.fit(xTrain, yTrainEncoded, batch_size = 120, epochs = 30, validation_split = 0.3)"
      ]
    },
    {
      "cell_type": "code",
      "execution_count": 21,
      "metadata": {
        "colab": {
          "base_uri": "https://localhost:8080/",
          "height": 472
        },
        "id": "xV_OcNuEyEmV",
        "outputId": "89560b51-97c5-4613-ddf3-3afc3135a78f"
      },
      "outputs": [
        {
          "output_type": "display_data",
          "data": {
            "text/plain": [
              "<Figure size 640x480 with 1 Axes>"
            ],
            "image/png": "[encoded data removed]"
          },
          "metadata": {}
        }
      ],
      "source": [
        "plt.plot(history.history['loss'])\n",
        "plt.plot(history.history['val_loss'])\n",
        "plt.title('Model Loss')\n",
        "plt.ylabel('Loss')\n",
        "plt.xlabel('Epoch')\n",
        "plt.legend(['Test', 'Validation'], loc='upper right')\n",
        "plt.show()"
      ]
    },
    {
      "cell_type": "code",
      "execution_count": 22,
      "metadata": {
        "colab": {
          "base_uri": "https://localhost:8080/",
          "height": 472
        },
        "id": "0IjDhF97yEmW",
        "outputId": "8ba43640-a752-42ca-9f95-6bab5cf98739"
      },
      "outputs": [
        {
          "output_type": "display_data",
          "data": {
            "text/plain": [
              "<Figure size 640x480 with 1 Axes>"
            ],
            "image/png": "[encoded data removed]"
          },
          "metadata": {}
        }
      ],
      "source": [
        "plt.plot(history.history['accuracy'])\n",
        "plt.plot(history.history['val_accuracy'])\n",
        "plt.title('Model Accuracy')\n",
        "plt.ylabel('Accuracy')\n",
        "plt.xlabel('Epoch')\n",
        "plt.legend(['Test', 'Validation'], loc='lower right')\n",
        "plt.show()"
      ]
    },
    {
      "cell_type": "code",
      "execution_count": 23,
      "metadata": {
        "colab": {
          "base_uri": "https://localhost:8080/"
        },
        "id": "qQMwekXmyEmW",
        "outputId": "87f42395-6742-432b-97a3-23df4df342b1"
      },
      "outputs": [
        {
          "output_type": "stream",
          "name": "stdout",
          "text": [
            "5/5 - 0s - loss: 0.0099 - accuracy: 1.0000 - 67ms/epoch - 13ms/step\n"
          ]
        }
      ],
      "source": [
        "score = model.evaluate(xTest, yTestEncoded, steps = 5, batch_size = 1, verbose = 2)"
      ]
    },
    {
      "cell_type": "code",
      "execution_count": 24,
      "metadata": {
        "colab": {
          "base_uri": "https://localhost:8080/"
        },
        "id": "p8EMa5xlyEmX",
        "outputId": "01f39cf3-62a3-4537-e345-1b88ef502e4c"
      },
      "outputs": [
        {
          "output_type": "stream",
          "name": "stdout",
          "text": [
            "Loss: 0.009905447252094746\n",
            "Accuracy: 100.0%\n",
            "\n"
          ]
        }
      ],
      "source": [
        "print(\"Loss: {}\\nAccuracy: {}%\\n\".format(score[0], score[1]*100))"
      ]
    },
    {
      "cell_type": "code",
      "source": [
        "model.save('my_model.keras')"
      ],
      "metadata": {
        "id": "v0dwuQGe3UPt"
      },
      "execution_count": 26,
      "outputs": []
    },
    {
      "cell_type": "code",
      "execution_count": 25,
      "metadata": {
        "id": "S1GMk_yfyEmY"
      },
      "outputs": [],
      "source": []
    }
  ]
}